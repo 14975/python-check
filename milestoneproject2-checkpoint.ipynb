{
 "cells": [
  {
   "cell_type": "code",
   "execution_count": 1,
   "metadata": {},
   "outputs": [],
   "source": [
    "import os\n",
    "import openpyxl\n",
    "import shutil"
   ]
  },
  {
   "cell_type": "code",
   "execution_count": 2,
   "metadata": {},
   "outputs": [],
   "source": [
    "backup_del = []"
   ]
  },
  {
   "cell_type": "code",
   "execution_count": 3,
   "metadata": {},
   "outputs": [],
   "source": [
    "def filePath():\n",
    "        filepath = input('Enter the path you want to search for zero byte : ')\n",
    "        print(\"\\n\")\n",
    "        return filepath"
   ]
  },
  {
   "cell_type": "code",
   "execution_count": 4,
   "metadata": {},
   "outputs": [],
   "source": [
    "def search_save_excel(filepath):\n",
    "        wb = openpyxl.load_workbook(\"ZeroByteFileList.xlsx\") #first make this empty file in the directory\n",
    "        ws = wb.get_sheet_by_name('Sheet1')\n",
    "        file = []\n",
    "        filename = []\n",
    "        global backup_del\n",
    "        count = 0\n",
    "        for folder,subfolder,filenames in os.walk(filepath):\n",
    "            for k in filenames:\n",
    "                if (os.path.getsize(os.path.join(folder,k))) == 0 :\n",
    "                    file.append(folder)\n",
    "                    filename.append(k)\n",
    "                    backup_del.append(os.path.join(folder,k))\n",
    "                    count += 1\n",
    "        for i, files in enumerate(file):\n",
    "               ws.cell(row=i+1, column=1).value = files\n",
    "        for i, filenames in enumerate(filename):\n",
    "               ws.cell(row=i+1, column=2).value = filenames\n",
    "        wb.save('ZeroByteFileList.xlsx')\n",
    "        print(\"Total files present in path \",filepath,\" of zero byte are : \",count)"
   ]
  },
  {
   "cell_type": "code",
   "execution_count": 5,
   "metadata": {},
   "outputs": [],
   "source": [
    "def backup(backup_del):\n",
    "            backupPath = input('Enter the path where you want to store all backup files : ')\n",
    "            print(len(backup_del))\n",
    "            for i in backup_del:\n",
    "                shutil.copy(i,backupPath) \n",
    "                print('\\n')"
   ]
  },
  {
   "cell_type": "code",
   "execution_count": 6,
   "metadata": {},
   "outputs": [],
   "source": [
    "def delete(backup_del):\n",
    "            for i in backup_del:\n",
    "                os.unlink(i)\n",
    "            message()"
   ]
  },
  {
   "cell_type": "code",
   "execution_count": 7,
   "metadata": {},
   "outputs": [],
   "source": [
    "def message():\n",
    "        print(\"*********************************\")\n",
    "        print(\"***Files Successfully deleted.***\")\n",
    "        print(\"*********************************\")"
   ]
  },
  {
   "cell_type": "code",
   "execution_count": 12,
   "metadata": {},
   "outputs": [
    {
     "name": "stdout",
     "output_type": "stream",
     "text": [
      "*********************************\n",
      "Zero Byte File Search Automation\n",
      "*********************************\n",
      "Want to Proceed (Yes or No) y\n",
      "*********************************\n",
      "Enter the path you want to search for zero byte : C:\\Users\\Akash\\Xilinx\\SysGen\\14.7\n",
      "\n",
      "\n"
     ]
    },
    {
     "name": "stderr",
     "output_type": "stream",
     "text": [
      "C:\\Users\\Akash\\Anaconda3\\envs\\rootenv\\lib\\site-packages\\ipykernel_launcher.py:3: DeprecationWarning: Call to deprecated function get_sheet_by_name (Use wb[sheetname]).\n",
      "  This is separate from the ipykernel package so we can avoid doing imports until\n"
     ]
    },
    {
     "name": "stdout",
     "output_type": "stream",
     "text": [
      "Total files present in path  C:\\Users\\Akash\\Xilinx\\SysGen\\14.7  of zero byte are :  3\n",
      "\n",
      "Before proceeding deletion want to take back up of all files (Yes or No) \n",
      "****************************************************************************\n",
      "Y/N y\n",
      "**********\n",
      "**BACKUP**\n",
      "**********\n",
      "Enter the path where you want to store all backup files : C:\\Users\\Akash\\Downloads\\Python Witnter Batch\\backup_zero\n",
      "3\n",
      "\n",
      "\n",
      "\n",
      "\n",
      "\n",
      "\n",
      "Want to delete the file ? [Y/N] y\n",
      "**********\n",
      "**Delete**\n",
      "**********\n",
      "*********************************\n",
      "***Files Successfully deleted.***\n",
      "*********************************\n"
     ]
    }
   ],
   "source": [
    "\n",
    "\n",
    "def main():\n",
    "    search_save_excel(filePath())\n",
    "    print('\\nBefore proceeding deletion want to take back up of all files (Yes or No) ')\n",
    "    print(\"****************************************************************************\")\n",
    "    Ans = input('Y/N ')\n",
    "    if (Ans.lower() == 'y') or (Ans.lower() == 'yes'):\n",
    "            print(\"**********\")\n",
    "            print(\"**BACKUP**\")\n",
    "            print(\"**********\")\n",
    "            backup(backup_del)\n",
    "    delinp = input(\"Want to delete the file ? [Y/N] \")\n",
    "    if (delinp.lower() == 'y') or (delinp.lower() == 'yes'):\n",
    "            print(\"**********\")\n",
    "            print(\"**Delete**\")\n",
    "            print(\"**********\")\n",
    "            delete(backup_del)\n",
    "    else:\n",
    "        print(\"No FILES DELETED !!!!\")\n",
    "print(\"*********************************\")\n",
    "print(\"Zero Byte File Search Automation\")\n",
    "print(\"*********************************\")\n",
    "ans = input('Want to Proceed (Yes or No) ')\n",
    "print(\"*********************************\")\n",
    "if (ans.lower() == 'y') or (ans.lower() == 'yes'):\n",
    "        main()\n",
    "        del backup_del\n",
    "else:\n",
    "        print(\"No FILES DELETED !!!!\")\n",
    "        del backup_del"
   ]
  },
  {
   "cell_type": "code",
   "execution_count": 10,
   "metadata": {},
   "outputs": [],
   "source": [
    "os.getcwd()\n",
    "os.chdir(\"C:\\\\Users\\\\Akash\\\\Downloads\\\\Python Witnter Batch\") # set the directory of your ZeroByteFileList.xlsx file"
   ]
  },
  {
   "cell_type": "code",
   "execution_count": null,
   "metadata": {},
   "outputs": [],
   "source": []
  }
 ],
 "metadata": {
  "kernelspec": {
   "display_name": "Python 3",
   "language": "python",
   "name": "python3"
  },
  "language_info": {
   "codemirror_mode": {
    "name": "ipython",
    "version": 3
   },
   "file_extension": ".py",
   "mimetype": "text/x-python",
   "name": "python",
   "nbconvert_exporter": "python",
   "pygments_lexer": "ipython3",
   "version": "3.8.3"
  }
 },
 "nbformat": 4,
 "nbformat_minor": 2
}
